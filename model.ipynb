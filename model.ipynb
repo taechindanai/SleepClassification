{
 "cells": [
  {
   "cell_type": "markdown",
   "metadata": {},
   "source": [
    "Create training & testing dataset"
   ]
  },
  {
   "cell_type": "code",
   "execution_count": null,
   "metadata": {},
   "outputs": [],
   "source": [
    "#import\n",
    "\n",
    "import numpy as np\n",
    "from prepare_physionet import class_dict\n",
    "import os"
   ]
  },
  {
   "cell_type": "code",
   "execution_count": null,
   "metadata": {},
   "outputs": [],
   "source": [
    "#list of all files\n",
    "\n",
    "def list_files(path):\n",
    "    try:\n",
    "        files = os.listdir(path)\n",
    "        all_files = [\"{}/{}\".format(path, file) for file in all_files]\n",
    "        return all_files\n",
    "    except:\n",
    "        print(\"Error in list_files\")\n",
    "        return None\n",
    "\n",
    "#load files\n",
    "\n",
    "def load_npz(file):d\n",
    "    with np.load(file) as f:\n",
    "        data = f['x']\n",
    "        labels = f['y']\n",
    "        sampling_rate = f['fs']\n",
    "    return data, labels, sampling_rate\n",
    "\n"
   ]
  }
 ],
 "metadata": {
  "kernelspec": {
   "display_name": "base",
   "language": "python",
   "name": "python3"
  },
  "language_info": {
   "name": "python",
   "version": "3.10.10"
  },
  "orig_nbformat": 4
 },
 "nbformat": 4,
 "nbformat_minor": 2
}
