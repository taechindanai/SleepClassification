{
 "cells": [
  {
   "cell_type": "markdown",
   "metadata": {},
   "source": [
    "Create training & testing dataset"
   ]
  },
  {
   "cell_type": "code",
   "execution_count": null,
   "metadata": {},
   "outputs": [],
   "source": [
    "#import\n",
    "\n",
    "import numpy as np\n",
    "from prepare_physionet import class_dict\n",
    "import os"
   ]
  },
  {
   "cell_type": "code",
   "execution_count": null,
   "metadata": {},
   "outputs": [],
   "source": [
    "DEBUG = None\n",
    "\n",
    "#list of all files\n",
    "\n",
    "def list_files(path):\n",
    "    try:\n",
    "        files = os.listdir(path)\n",
    "        all_files = [\"{}/{}\".format(path, file) for file in all_files]\n",
    "        return all_files\n",
    "    except:\n",
    "        print(\"Error in list_files\")\n",
    "        return None\n",
    "\n",
    "#load files\n",
    "\n",
    "def load_npz(file):\n",
    "    with np.load(file) as f:\n",
    "        data = f['x']\n",
    "        labels = f['y']\n",
    "        sampling_rate = f['fs']\n",
    "    return data, labels, sampling_rate\n",
    "\n",
    "# Reference: NonSeqDataLoader of DeepSleepNet\n",
    "def load_npz_list_files(npz_files):\n",
    "    \"\"\"Load data and labels from list of npz files.\"\"\"\n",
    "    data = []\n",
    "    labels = []\n",
    "    fs = None\n",
    "    for npz_f in npz_files:\n",
    "        if DEBUG:\n",
    "            print(\"Loading {} ...\".format(npz_f))\n",
    "        if not npz_f.endswith(\".npz\"):\n",
    "            continue\n",
    "        tmp_data, tmp_labels, sampling_rate = load_npz_file(npz_f)\n",
    "        if fs is None:\n",
    "            fs = sampling_rate\n",
    "        elif fs != sampling_rate:\n",
    "            raise Exception(\"Found mismatch in sampling rate.\")\n",
    "\n",
    "        # Reshape the data to match the input of the model - conv2d\n",
    "        tmp_data = np.squeeze(tmp_data)\n",
    "        tmp_data = tmp_data[:, :, np.newaxis, np.newaxis]\n",
    "\n",
    "        # # Reshape the data to match the input of the model - conv1d\n",
    "        # tmp_data = tmp_data[:, :, np.newaxis]\n",
    "\n",
    "        # Casting\n",
    "        tmp_data = tmp_data.astype(np.float32)\n",
    "        tmp_labels = tmp_labels.astype(np.int32)\n",
    "\n",
    "        data.append(tmp_data)\n",
    "        labels.append(tmp_labels)\n",
    "    data = np.vstack(data)\n",
    "    labels = np.hstack(labels)\n",
    "\n",
    "    return data, labels\n",
    "\n",
    "# \n",
    "\n",
    "\n"
   ]
  }
 ],
 "metadata": {
  "kernelspec": {
   "display_name": "base",
   "language": "python",
   "name": "python3"
  },
  "language_info": {
   "name": "python",
   "version": "3.10.10"
  },
  "orig_nbformat": 4
 },
 "nbformat": 4,
 "nbformat_minor": 2
}
