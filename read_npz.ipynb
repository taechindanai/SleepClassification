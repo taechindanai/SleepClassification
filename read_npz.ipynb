{
 "cells": [
  {
   "cell_type": "code",
   "execution_count": 2,
   "metadata": {},
   "outputs": [],
   "source": [
    "#import\n",
    "\n",
    "import numpy as np\n",
    "from prepare_physionet import class_dict\n",
    "import os"
   ]
  },
  {
   "cell_type": "code",
   "execution_count": 3,
   "metadata": {},
   "outputs": [],
   "source": [
    "def load_npz_file(npz_file):\n",
    "    with np.load(npz_file) as f:\n",
    "        data = f[\"x\"]\n",
    "        labels = f[\"y\"]\n",
    "        sampling_rate = f[\"fs\"]\n",
    "    return data, labels, sampling_rate"
   ]
  },
  {
   "cell_type": "code",
   "execution_count": 4,
   "metadata": {},
   "outputs": [
    {
     "data": {
      "text/plain": [
       "(array([[-0.00017436, -0.00029392, -0.00047326, ..., -0.00152938,\n",
       "         -0.00080205, -0.00201758],\n",
       "        [-0.00121055, -0.00086183, -0.00085187, ...,  0.00151941,\n",
       "          0.00142974,  0.00122051],\n",
       "        [ 0.00138989,  0.00174857,  0.00194784, ..., -0.00010462,\n",
       "         -0.00041348, -0.0008419 ],\n",
       "        ...,\n",
       "        [-0.00097143, -0.00085187, -0.0008419 , ...,  0.00081201,\n",
       "          0.00108103,  0.00127033],\n",
       "        [ 0.00178842,  0.00262535,  0.00313348, ..., -0.00304381,\n",
       "         -0.00350212, -0.00340249],\n",
       "        [-0.00317333, -0.00334271, -0.00302388, ..., -0.0009515 ,\n",
       "         -0.00128029, -0.00158916]], dtype=float32),\n",
       " array([0, 0, 0, ..., 0, 0, 0], dtype=int32),\n",
       " array(100.))"
      ]
     },
     "execution_count": 4,
     "metadata": {},
     "output_type": "execute_result"
    }
   ],
   "source": [
    "load_npz_file(\"./datasets/Sleep-EDF/Fpz-Cz/SC4011E0.npz\")"
   ]
  },
  {
   "cell_type": "code",
   "execution_count": 5,
   "metadata": {},
   "outputs": [],
   "source": [
    "cwd = os.getcwd()"
   ]
  },
  {
   "cell_type": "code",
   "execution_count": 9,
   "metadata": {},
   "outputs": [
    {
     "data": {
      "text/plain": [
       "71"
      ]
     },
     "execution_count": 9,
     "metadata": {},
     "output_type": "execute_result"
    }
   ],
   "source": [
    "len(os.listdir('./datasets/Sleep-EDF/Fpz-Cz'))"
   ]
  },
  {
   "cell_type": "code",
   "execution_count": null,
   "metadata": {},
   "outputs": [],
   "source": []
  }
 ],
 "metadata": {
  "kernelspec": {
   "display_name": "Python 3 (ipykernel)",
   "language": "python",
   "name": "python3"
  },
  "language_info": {
   "codemirror_mode": {
    "name": "ipython",
    "version": 3
   },
   "file_extension": ".py",
   "mimetype": "text/x-python",
   "name": "python",
   "nbconvert_exporter": "python",
   "pygments_lexer": "ipython3",
   "version": "3.10.10"
  }
 },
 "nbformat": 4,
 "nbformat_minor": 2
}
